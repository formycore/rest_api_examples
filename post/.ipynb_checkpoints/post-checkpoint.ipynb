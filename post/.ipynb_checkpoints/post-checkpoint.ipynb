{
 "cells": [
  {
   "cell_type": "code",
   "execution_count": 1,
   "id": "6f23dab5-88dc-468d-ad40-dd35f2b6e1e7",
   "metadata": {},
   "outputs": [
    {
     "name": "stdin",
     "output_type": "stream",
     "text": [
      "Enter the name:  john\n",
      "Enter the email :  john@sample.com\n",
      "Enter the status : active\n",
      "Enter the gender:  male\n"
     ]
    },
    {
     "name": "stdout",
     "output_type": "stream",
     "text": [
      "{'name': 'john', 'email': 'john@sample.com', 'status': 'active', 'gender': 'male'}\n"
     ]
    }
   ],
   "source": [
    "import requests\n",
    "import config\n",
    "import os\n",
    "from dotenv import load_dotenv\n",
    "load_dotenv()\n",
    "\n",
    "api_key=os.getenv(\"TOKEN\")\n",
    "\n",
    "url = config.users()\n",
    "name = input (\"Enter the name: \")\n",
    "email = input(\"Enter the email : \")\n",
    "status = input(\"Enter the status :\")\n",
    "gender = input(\"Enter the gender: \")\n",
    "\n",
    "data = dict()\n",
    "data['name'] = name\n",
    "data['email'] = email\n",
    "data['status'] = status\n",
    "data['gender'] = gender\n",
    "\n",
    "print(data)"
   ]
  },
  {
   "cell_type": "code",
   "execution_count": 4,
   "id": "077a6724-14de-4b73-ac51-fc8cd5650916",
   "metadata": {},
   "outputs": [
    {
     "name": "stdin",
     "output_type": "stream",
     "text": [
      "Enter the name:  sam\n",
      "Enter the email :  sam@sample.com\n",
      "Enter the status : active\n",
      "Enter the gender:  female\n"
     ]
    },
    {
     "name": "stdout",
     "output_type": "stream",
     "text": [
      "<Response [401]>\n"
     ]
    }
   ],
   "source": [
    "import requests\n",
    "import config\n",
    "import os\n",
    "from dotenv import load_dotenv\n",
    "load_dotenv()\n",
    "\n",
    "api_key=os.getenv(\"TOKEN\")\n",
    "\n",
    "url = config.users()\n",
    "name = input (\"Enter the name: \")\n",
    "email = input(\"Enter the email : \")\n",
    "status = input(\"Enter the status :\")\n",
    "gender = input(\"Enter the gender: \")\n",
    "\n",
    "data = dict()\n",
    "data['name'] = name\n",
    "data['email'] = email\n",
    "data['status'] = status\n",
    "data['gender'] = gender\n",
    "#r = requests.post(url,data=value,headers=value)\n",
    "r = requests.post(url, data = data )\n",
    "print(r)"
   ]
  },
  {
   "cell_type": "code",
   "execution_count": null,
   "id": "973b6500-019e-4584-9db2-14c122a13b9f",
   "metadata": {},
   "outputs": [],
   "source": [
    "# we need to define our headers\n",
    "# for get call we dont require this\n",
    "# for post call we require this \n",
    "# headers is also a dictionary\n",
    "\n",
    "    \n"
   ]
  },
  {
   "cell_type": "code",
   "execution_count": null,
   "id": "492283f6-10fe-4ee4-867f-a652274c46c1",
   "metadata": {},
   "outputs": [],
   "source": [
    "'''\n",
    "headers = dict()\n",
    "headers['Authorization'] = 'Bearer' + api_key\n",
    "r = requests.post(url, data = data_dict, headers = headers_dict)\n",
    "\n",
    "'''"
   ]
  },
  {
   "cell_type": "code",
   "execution_count": 7,
   "id": "8e77b17f-2bb2-418a-bd05-66e6bb1ec3c8",
   "metadata": {},
   "outputs": [
    {
     "name": "stdin",
     "output_type": "stream",
     "text": [
      "Enter the name:  sam\n",
      "Enter the email :  sam@gmail.com\n",
      "Enter the status : active\n",
      "Enter the gender:  female\n"
     ]
    },
    {
     "name": "stdout",
     "output_type": "stream",
     "text": [
      "<Response [201]>\n"
     ]
    }
   ],
   "source": [
    "import requests\n",
    "import config\n",
    "import os\n",
    "from dotenv import load_dotenv\n",
    "load_dotenv()\n",
    "\n",
    "api_key=os.getenv(\"TOKEN\")\n",
    "\n",
    "url = config.users()\n",
    "name = input (\"Enter the name: \")\n",
    "email = input(\"Enter the email : \")\n",
    "status = input(\"Enter the status :\")\n",
    "gender = input(\"Enter the gender: \")\n",
    "\n",
    "data = dict()\n",
    "data['name'] = name\n",
    "data['email'] = email\n",
    "data['status'] = status\n",
    "data['gender'] = gender\n",
    "\n",
    "headers = dict()\n",
    "headers['Authorization'] = 'Bearer ' + api_key\n",
    "r = requests.post(url, data = data, headers = headers)\n",
    "#r = requests.post(url,data=value,headers=value)\n",
    "#r = requests.post(url, data = data )\n",
    "print(r)"
   ]
  },
  {
   "cell_type": "code",
   "execution_count": 8,
   "id": "a2e98842-f129-4dca-9112-0398fece3317",
   "metadata": {},
   "outputs": [
    {
     "name": "stdout",
     "output_type": "stream",
     "text": [
      "{'id': 7677758, 'name': 'sam', 'email': 'sam@gmail.com', 'gender': 'female', 'status': 'active'}\n"
     ]
    }
   ],
   "source": [
    "print(r.json())"
   ]
  },
  {
   "cell_type": "code",
   "execution_count": null,
   "id": "b2209a07-b3f2-487f-b089-f1cb73ec037b",
   "metadata": {},
   "outputs": [],
   "source": [
    "# https://gorest.co.in/public/v2/users/7677758\n",
    "'''\n",
    "{\n",
    "  \"id\": 7677758,\n",
    "  \"name\": \"sam\",\n",
    "  \"email\": \"sam@gmail.com\",\n",
    "  \"gender\": \"female\",\n",
    "  \"status\": \"active\"\n",
    "}\n",
    "'''"
   ]
  }
 ],
 "metadata": {
  "kernelspec": {
   "display_name": "Python 3 (ipykernel)",
   "language": "python",
   "name": "python3"
  },
  "language_info": {
   "codemirror_mode": {
    "name": "ipython",
    "version": 3
   },
   "file_extension": ".py",
   "mimetype": "text/x-python",
   "name": "python",
   "nbconvert_exporter": "python",
   "pygments_lexer": "ipython3",
   "version": "3.10.0"
  }
 },
 "nbformat": 4,
 "nbformat_minor": 5
}
