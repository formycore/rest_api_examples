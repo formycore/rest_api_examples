{
 "cells": [
  {
   "cell_type": "code",
   "execution_count": null,
   "id": "b3c18338-f67f-4143-af55-58934fb5a81e",
   "metadata": {},
   "outputs": [],
   "source": [
    "'''# https://blog.gitguardian.com/how-to-handle-secrets-in-python/\n",
    "From a file\n",
    "Using an .env file\n",
    "pip install python-dotenv\n",
    "\n",
    "Create a .env file for testing purposes and paste the following secrets\n",
    "\n",
    "API_KEY=test-key\n",
    "API_SECRET=test-secret\n",
    "\n",
    "Add this line to your .gitignore file:\n",
    ".env\n",
    "\n",
    "or \n",
    "echo .env | tee -a .gitignore # this will create a file and add the .env content in this file \n",
    "\n",
    "from dotenv import load_dotenv\n",
    "import os\n",
    "\n",
    "load_dotenv()\n",
    "\n",
    "api_key = os.getenv(\"API_KEY\")\n",
    "api_secret = os.getenv(\"API_SECRET\")\n",
    "\n",
    "print(\"API_KEY: \", api_key)\n",
    "print(\"API_SECRET: \", api_secret)\n",
    "'''"
   ]
  },
  {
   "cell_type": "code",
   "execution_count": 1,
   "id": "15fafbe9-c1eb-4c35-afbb-9ca85b77f6f2",
   "metadata": {},
   "outputs": [
    {
     "name": "stdout",
     "output_type": "stream",
     "text": [
      "https://gorest.co.in/public/v2/users/\n"
     ]
    }
   ],
   "source": [
    "# this request module is used to request for api related \n",
    "import requests\n",
    "import config\n",
    "# this config is the file called config.py where we need to variablize \n",
    "print(config.users())\n",
    "# above the code is for def functions"
   ]
  },
  {
   "cell_type": "code",
   "execution_count": 2,
   "id": "453166b2-bf8d-4b0c-836e-2d1dfe0594f9",
   "metadata": {},
   "outputs": [
    {
     "name": "stdout",
     "output_type": "stream",
     "text": [
      "<Response [200]>\n"
     ]
    }
   ],
   "source": [
    "import requests\n",
    "import config\n",
    "r = requests.get(config.users()) # using get call\n",
    "print(r) # prints the status code "
   ]
  },
  {
   "cell_type": "code",
   "execution_count": 3,
   "id": "298a3b0d-c8fe-4086-b5ff-f9f5735ae785",
   "metadata": {},
   "outputs": [
    {
     "name": "stdout",
     "output_type": "stream",
     "text": [
      "[{'id': 7677143, 'name': 'Chakradhar Jha', 'email': 'jha_chakradhar@corwin-hodkiewicz.test', 'gender': 'female', 'status': 'inactive'}, {'id': 7677141, 'name': 'Avani Khatri', 'email': 'khatri_avani@stokes.example', 'gender': 'female', 'status': 'active'}, {'id': 7677140, 'name': 'Rita Kapoor', 'email': 'rita_kapoor@durgan.example', 'gender': 'female', 'status': 'inactive'}, {'id': 7677139, 'name': 'Bhardwaj Shukla', 'email': 'bhardwaj_shukla@mante.example', 'gender': 'female', 'status': 'inactive'}, {'id': 7677138, 'name': 'The Hon. Bhupati Embranthiri', 'email': 'bhupati_the_hon_embranthiri@wunsch.example', 'gender': 'female', 'status': 'active'}, {'id': 7677137, 'name': 'Amaranaath Deshpande', 'email': 'deshpande_amaranaath@dubuque.example', 'gender': 'male', 'status': 'active'}, {'id': 7677136, 'name': 'Chetan Bhat', 'email': 'bhat_chetan@volkman.test', 'gender': 'female', 'status': 'inactive'}, {'id': 7677135, 'name': 'Guru Jha', 'email': 'jha_guru@kemmer.test', 'gender': 'male', 'status': 'inactive'}, {'id': 7677133, 'name': 'Dhanapati Varman', 'email': 'dhanapati_varman@runolfsson-zboncak.example', 'gender': 'male', 'status': 'active'}, {'id': 7677132, 'name': 'Anuraag Varman', 'email': 'varman_anuraag@predovic.example', 'gender': 'female', 'status': 'active'}]\n"
     ]
    }
   ],
   "source": [
    "import requests\n",
    "import config\n",
    "r = requests.get(config.users())\n",
    "print(r.json()) # out put in the form of json"
   ]
  },
  {
   "cell_type": "code",
   "execution_count": 4,
   "id": "3dba9996-50b6-4abe-a3e7-ec76557ee8e6",
   "metadata": {},
   "outputs": [
    {
     "name": "stdout",
     "output_type": "stream",
     "text": [
      "<Response [200]>\n"
     ]
    }
   ],
   "source": [
    "import requests\n",
    "import config\n",
    "url = config.users()\n",
    "r = requests.get(url)\n",
    "print(r) "
   ]
  },
  {
   "cell_type": "code",
   "execution_count": 6,
   "id": "84a4fc23-5aef-4236-b4c0-a03e6293c3f7",
   "metadata": {},
   "outputs": [
    {
     "name": "stdout",
     "output_type": "stream",
     "text": [
      "------------------------------\n",
      "200\n",
      "------------------------------\n",
      "[{\"id\":7677143,\"name\":\"Chakradhar Jha\",\"email\":\"jha_chakradhar@corwin-hodkiewicz.test\",\"gender\":\"female\",\"status\":\"inactive\"},{\"id\":7677141,\"name\":\"Avani Khatri\",\"email\":\"khatri_avani@stokes.example\",\"gender\":\"female\",\"status\":\"active\"},{\"id\":7677140,\"name\":\"Rita Kapoor\",\"email\":\"rita_kapoor@durgan.example\",\"gender\":\"female\",\"status\":\"inactive\"},{\"id\":7677139,\"name\":\"Bhardwaj Shukla\",\"email\":\"bhardwaj_shukla@mante.example\",\"gender\":\"female\",\"status\":\"inactive\"},{\"id\":7677138,\"name\":\"The Hon. Bhupati Embranthiri\",\"email\":\"bhupati_the_hon_embranthiri@wunsch.example\",\"gender\":\"female\",\"status\":\"active\"},{\"id\":7677137,\"name\":\"Amaranaath Deshpande\",\"email\":\"deshpande_amaranaath@dubuque.example\",\"gender\":\"male\",\"status\":\"active\"},{\"id\":7677136,\"name\":\"Chetan Bhat\",\"email\":\"bhat_chetan@volkman.test\",\"gender\":\"female\",\"status\":\"inactive\"},{\"id\":7677135,\"name\":\"Guru Jha\",\"email\":\"jha_guru@kemmer.test\",\"gender\":\"male\",\"status\":\"inactive\"},{\"id\":7677133,\"name\":\"Dhanapati Varman\",\"email\":\"dhanapati_varman@runolfsson-zboncak.example\",\"gender\":\"male\",\"status\":\"active\"},{\"id\":7677132,\"name\":\"Anuraag Varman\",\"email\":\"varman_anuraag@predovic.example\",\"gender\":\"female\",\"status\":\"active\"}]\n",
      "------------------------------\n",
      "[{'id': 7677143, 'name': 'Chakradhar Jha', 'email': 'jha_chakradhar@corwin-hodkiewicz.test', 'gender': 'female', 'status': 'inactive'}, {'id': 7677141, 'name': 'Avani Khatri', 'email': 'khatri_avani@stokes.example', 'gender': 'female', 'status': 'active'}, {'id': 7677140, 'name': 'Rita Kapoor', 'email': 'rita_kapoor@durgan.example', 'gender': 'female', 'status': 'inactive'}, {'id': 7677139, 'name': 'Bhardwaj Shukla', 'email': 'bhardwaj_shukla@mante.example', 'gender': 'female', 'status': 'inactive'}, {'id': 7677138, 'name': 'The Hon. Bhupati Embranthiri', 'email': 'bhupati_the_hon_embranthiri@wunsch.example', 'gender': 'female', 'status': 'active'}, {'id': 7677137, 'name': 'Amaranaath Deshpande', 'email': 'deshpande_amaranaath@dubuque.example', 'gender': 'male', 'status': 'active'}, {'id': 7677136, 'name': 'Chetan Bhat', 'email': 'bhat_chetan@volkman.test', 'gender': 'female', 'status': 'inactive'}, {'id': 7677135, 'name': 'Guru Jha', 'email': 'jha_guru@kemmer.test', 'gender': 'male', 'status': 'inactive'}, {'id': 7677133, 'name': 'Dhanapati Varman', 'email': 'dhanapati_varman@runolfsson-zboncak.example', 'gender': 'male', 'status': 'active'}, {'id': 7677132, 'name': 'Anuraag Varman', 'email': 'varman_anuraag@predovic.example', 'gender': 'female', 'status': 'active'}]\n",
      "------------------------------\n",
      "10\n"
     ]
    }
   ],
   "source": [
    "import requests\n",
    "import config\n",
    "url = config.users()\n",
    "r = requests.get(url)\n",
    "print(\"------------------------------\")\n",
    "print(r.status_code)\n",
    "print(\"------------------------------\")\n",
    "print(r.text)\n",
    "print(\"------------------------------\")\n",
    "print(r.json())\n",
    "print(\"------------------------------\")\n",
    "print(len(r.json()))"
   ]
  },
  {
   "cell_type": "code",
   "execution_count": 7,
   "id": "b1e72729-38f3-4725-9630-10ad308ffb71",
   "metadata": {},
   "outputs": [
    {
     "name": "stdout",
     "output_type": "stream",
     "text": [
      "https://gorest.co.in/public/v2/users/\n"
     ]
    }
   ],
   "source": [
    "print(r.url)"
   ]
  },
  {
   "cell_type": "code",
   "execution_count": null,
   "id": "654f4477-bdbe-4b4a-bd9f-f5f611f9e64d",
   "metadata": {},
   "outputs": [],
   "source": []
  }
 ],
 "metadata": {
  "kernelspec": {
   "display_name": "Python 3 (ipykernel)",
   "language": "python",
   "name": "python3"
  },
  "language_info": {
   "codemirror_mode": {
    "name": "ipython",
    "version": 3
   },
   "file_extension": ".py",
   "mimetype": "text/x-python",
   "name": "python",
   "nbconvert_exporter": "python",
   "pygments_lexer": "ipython3",
   "version": "3.10.0"
  }
 },
 "nbformat": 4,
 "nbformat_minor": 5
}
